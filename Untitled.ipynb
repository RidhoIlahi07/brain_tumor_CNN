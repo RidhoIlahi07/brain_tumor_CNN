{
 "cells": [
  {
   "cell_type": "code",
   "execution_count": 2,
   "metadata": {},
   "outputs": [],
   "source": [
    "import numpy as np\n",
    "import matplotlib.pyplot as plt\n",
    "import math\n",
    "import imutils.paths as path\n",
    "from tqdm import tqdm\n",
    "import os\n",
    "from skimage.io import imread\n",
    "import cv2\n",
    "from tqdm import tqdm\n",
    "import imutils\n",
    "from numpy import linalg as LA"
   ]
  },
  {
   "cell_type": "code",
   "execution_count": 15,
   "metadata": {},
   "outputs": [],
   "source": [
    "img = cv2.imread('brain_tumor_dataset/yes/Y107.jpg')"
   ]
  },
  {
   "cell_type": "code",
   "execution_count": 16,
   "metadata": {},
   "outputs": [],
   "source": [
    "positifList=os.listdir('brain_tumor_dataset/yes/')\n",
    "negatifList=os.listdir('brain_tumor_dataset/no/')"
   ]
  },
  {
   "cell_type": "code",
   "execution_count": 17,
   "metadata": {},
   "outputs": [],
   "source": [
    "def crop_brain_contour(image, plot=False):\n",
    "    #convert image to grayscale\n",
    "    gray = cv2.cvtColor(image, cv2.COLOR_BGR2GRAY)\n",
    "    gray = cv2.GaussianBlur(gray,(5,5), 0)\n",
    "    \n",
    "    thresh = cv2.threshold(gray, 45, 255, cv2.THRESH_BINARY)[1]\n",
    "    thresh = cv2.erode(thresh, None, iterations = 2)\n",
    "    thresh = cv2.dilate(thresh, None, iterations = 2)\n",
    "    \n",
    "    contour = cv2.findContours(thresh.copy(), cv2.RETR_EXTERNAL, cv2.CHAIN_APPROX_SIMPLE)\n",
    "    contour = imutils.grab_contours(contour)\n",
    "    c = max(contour, key=cv2.contourArea)\n",
    "    \n",
    "    extLeft = tuple(c[c[:,:,0].argmin()][0])\n",
    "    extRight = tuple(c[c[:,:,0].argmax()][0])\n",
    "    extTop = tuple(c[c[:,:,1].argmin()][0])\n",
    "    extBot = tuple(c[c[:,:,1].argmax()][0])\n",
    "    \n",
    "    new_image = new_image = image[extTop[1]:extBot[1], extLeft[0]:extRight[0]]\n",
    "    if plot:\n",
    "        plt.figure()\n",
    "        plt.subplot(1, 2, 1)\n",
    "        plt.imshow(image)\n",
    "        plt.title('Original Image')\n",
    "        plt.subplot(1, 2, 2)\n",
    "        plt.imshow(new_image)\n",
    "        plt.title('Cropped Image')\n",
    "        plt.show()\n",
    "        \n",
    "    return new_image"
   ]
  },
  {
   "cell_type": "code",
   "execution_count": 18,
   "metadata": {},
   "outputs": [],
   "source": [
    "def loadCitra (listData, labeling):\n",
    "    data = []\n",
    "    label = []\n",
    "    for i in tqdm (listData):\n",
    "        if (labeling == 0):\n",
    "            sample = cv2.imread ('brain_tumor_dataset/yes/'+i)\n",
    "        elif (labeling == 1):\n",
    "            sample = cv2.imread ('brain_tumor_dataset/no/'+i)\n",
    "        sample = crop_brain_contour(sample, plot=False)\n",
    "        imgGray = cv2.cvtColor(sample, cv2.COLOR_BGR2GRAY)\n",
    "        sampleResize= cv2.resize (imgGray, (32,32) )\n",
    "        data.append(sampleResize)\n",
    "        label.append(labeling)\n",
    "    return (data, label)"
   ]
  },
  {
   "cell_type": "code",
   "execution_count": 19,
   "metadata": {},
   "outputs": [
    {
     "name": "stderr",
     "output_type": "stream",
     "text": [
      "100%|██████████| 155/155 [00:00<00:00, 174.26it/s]\n"
     ]
    },
    {
     "name": "stdout",
     "output_type": "stream",
     "text": [
      "[0, 0, 0, 0, 0, 0, 0, 0, 0, 0, 0, 0, 0, 0, 0, 0, 0, 0, 0, 0, 0, 0, 0, 0, 0, 0, 0, 0, 0, 0, 0, 0, 0, 0, 0, 0, 0, 0, 0, 0, 0, 0, 0, 0, 0, 0, 0, 0, 0, 0, 0, 0, 0, 0, 0, 0, 0, 0, 0, 0, 0, 0, 0, 0, 0, 0, 0, 0, 0, 0, 0, 0, 0, 0, 0, 0, 0, 0, 0, 0, 0, 0, 0, 0, 0, 0, 0, 0, 0, 0, 0, 0, 0, 0, 0, 0, 0, 0, 0, 0, 0, 0, 0, 0, 0, 0, 0, 0, 0, 0, 0, 0, 0, 0, 0, 0, 0, 0, 0, 0, 0, 0, 0, 0, 0, 0, 0, 0, 0, 0, 0, 0, 0, 0, 0, 0, 0, 0, 0, 0, 0, 0, 0, 0, 0, 0, 0, 0, 0, 0, 0, 0, 0, 0, 0]\n",
      "(155, 32, 32)\n",
      "panjang IDpositif:155\n",
      "\n"
     ]
    },
    {
     "name": "stderr",
     "output_type": "stream",
     "text": [
      "100%|██████████| 98/98 [00:00<00:00, 232.85it/s]\n"
     ]
    },
    {
     "name": "stdout",
     "output_type": "stream",
     "text": [
      "[1, 1, 1, 1, 1, 1, 1, 1, 1, 1, 1, 1, 1, 1, 1, 1, 1, 1, 1, 1, 1, 1, 1, 1, 1, 1, 1, 1, 1, 1, 1, 1, 1, 1, 1, 1, 1, 1, 1, 1, 1, 1, 1, 1, 1, 1, 1, 1, 1, 1, 1, 1, 1, 1, 1, 1, 1, 1, 1, 1, 1, 1, 1, 1, 1, 1, 1, 1, 1, 1, 1, 1, 1, 1, 1, 1, 1, 1, 1, 1, 1, 1, 1, 1, 1, 1, 1, 1, 1, 1, 1, 1, 1, 1, 1, 1, 1, 1]\n",
      "(98, 32, 32)\n",
      "panjang IDnegatif: 98\n",
      "\n",
      "(253, 32, 32)\n",
      "Jumlah Citra: 253\n",
      "panjang ID: 253\n"
     ]
    }
   ],
   "source": [
    "citraPositif, IDpositif=loadCitra(positifList, 0)\n",
    "citraArray = np.array (citraPositif)\n",
    "print (IDpositif)\n",
    "print (citraArray.shape)\n",
    "print(\"panjang IDpositif:\" + str(len(IDpositif))+\"\\n\")\n",
    "\n",
    "citraNegatif, IDnegatif=loadCitra(negatifList, 1)\n",
    "citraArray = np.array (citraNegatif)\n",
    "print (IDnegatif)\n",
    "print (citraArray.shape)\n",
    "print(\"panjang IDnegatif: \" + str(len(IDnegatif))+\"\\n\")\n",
    "\n",
    "citra = citraPositif+citraNegatif\n",
    "citraArr=np.array (citra)\n",
    "print (citraArr.shape)\n",
    "# size, lenX, lenY, dimensi = citraArr.shape\n",
    "# print (lenX,lenY)\n",
    "ID=IDpositif+IDnegatif\n",
    "print(\"Jumlah Citra: \" + str(len(citra)))\n",
    "print(\"panjang ID: \" + str(len(ID)))"
   ]
  },
  {
   "cell_type": "code",
   "execution_count": 27,
   "metadata": {},
   "outputs": [],
   "source": [
    "# # normalisasi data\n",
    "citra = np.array(citra)\n",
    "citra = citra.astype('float32')"
   ]
  },
  {
   "cell_type": "code",
   "execution_count": 21,
   "metadata": {},
   "outputs": [],
   "source": [
    "def myPCA(dt,nEigen):\n",
    "    #1 Def global mean, mu\n",
    "    mu=np.mean(dt,axis=0)\n",
    "\n",
    "    #2. Determine diff=dt-mu\n",
    "    nR=dt.shape[0] #get row size \n",
    "    diff=np.array(dt) #makes a copy\n",
    "    for i in range (nR):\n",
    "        diff[i,:]=diff[i,:]-mu\n",
    "        \n",
    "    #3. Get Covariance Matrix, S    \n",
    "    A=np.transpose(dt)@dt  #Matrix multiplication\n",
    "\n",
    "    #4. Get Eigen\n",
    "    w, v = LA.eig(A)\n",
    "\n",
    "    #5. get W\n",
    "    idx=np.argsort(-w)\n",
    "    Ww=v[:,idx[0:nEigen]]\n",
    "    \n",
    "    #6. Projection\n",
    "    dP=diff@Ww\n",
    "    \n",
    "    return mu, Ww, dP;"
   ]
  },
  {
   "cell_type": "code",
   "execution_count": 28,
   "metadata": {},
   "outputs": [
    {
     "name": "stdout",
     "output_type": "stream",
     "text": [
      "(253, 1024)\n"
     ]
    },
    {
     "data": {
      "text/plain": [
       "((1024,), (1024, 32), (253, 32))"
      ]
     },
     "execution_count": 28,
     "metadata": {},
     "output_type": "execute_result"
    }
   ],
   "source": [
    "#1.Lakukan PCA dekomposisi atas citra input:\n",
    "#1.1 Convert matrik 400x32x32 menjadi 400x1024\n",
    "dt=citra.reshape(-1,32*32)/255\n",
    "print (dt.shape)\n",
    "\n",
    "#1.2 PCA Dekomposisi\n",
    "mu, Ww, dP = myPCA(dt,32)\n",
    "\n",
    "#1.3 Tampilkan ukuran dari PCA\n",
    "mu.shape, Ww.shape, dP.shape"
   ]
  },
  {
   "cell_type": "code",
   "execution_count": 1,
   "metadata": {},
   "outputs": [
    {
     "ename": "NameError",
     "evalue": "name 'plt' is not defined",
     "output_type": "error",
     "traceback": [
      "\u001b[1;31m---------------------------------------------------------------------------\u001b[0m",
      "\u001b[1;31mNameError\u001b[0m                                 Traceback (most recent call last)",
      "\u001b[1;32m<ipython-input-1-3e6a170dce34>\u001b[0m in \u001b[0;36m<module>\u001b[1;34m\u001b[0m\n\u001b[0;32m      1\u001b[0m \u001b[1;31m#2. Tampilkan 25 eigen face\u001b[0m\u001b[1;33m\u001b[0m\u001b[1;33m\u001b[0m\u001b[1;33m\u001b[0m\u001b[0m\n\u001b[1;32m----> 2\u001b[1;33m \u001b[0mplt\u001b[0m\u001b[1;33m.\u001b[0m\u001b[0mfigure\u001b[0m\u001b[1;33m(\u001b[0m\u001b[0mfigsize\u001b[0m\u001b[1;33m=\u001b[0m\u001b[1;33m(\u001b[0m\u001b[1;36m10\u001b[0m\u001b[1;33m,\u001b[0m\u001b[1;36m10\u001b[0m\u001b[1;33m)\u001b[0m\u001b[1;33m)\u001b[0m\u001b[1;33m\u001b[0m\u001b[1;33m\u001b[0m\u001b[0m\n\u001b[0m\u001b[0;32m      3\u001b[0m \u001b[1;32mfor\u001b[0m \u001b[0mi\u001b[0m \u001b[1;32min\u001b[0m \u001b[0mrange\u001b[0m\u001b[1;33m(\u001b[0m\u001b[1;36m25\u001b[0m\u001b[1;33m)\u001b[0m\u001b[1;33m:\u001b[0m\u001b[1;33m\u001b[0m\u001b[1;33m\u001b[0m\u001b[0m\n\u001b[0;32m      4\u001b[0m     \u001b[0mplt\u001b[0m\u001b[1;33m.\u001b[0m\u001b[0msubplot\u001b[0m\u001b[1;33m(\u001b[0m\u001b[1;36m5\u001b[0m\u001b[1;33m,\u001b[0m\u001b[1;36m5\u001b[0m\u001b[1;33m,\u001b[0m\u001b[0mi\u001b[0m\u001b[1;33m+\u001b[0m\u001b[1;36m1\u001b[0m\u001b[1;33m)\u001b[0m\u001b[1;33m\u001b[0m\u001b[1;33m\u001b[0m\u001b[0m\n\u001b[0;32m      5\u001b[0m     \u001b[0mplt\u001b[0m\u001b[1;33m.\u001b[0m\u001b[0mxticks\u001b[0m\u001b[1;33m(\u001b[0m\u001b[1;33m[\u001b[0m\u001b[1;33m]\u001b[0m\u001b[1;33m)\u001b[0m\u001b[1;33m\u001b[0m\u001b[1;33m\u001b[0m\u001b[0m\n",
      "\u001b[1;31mNameError\u001b[0m: name 'plt' is not defined"
     ]
    }
   ],
   "source": [
    "#2. Tampilkan 25 eigen face\n",
    "plt.figure(figsize=(10,10))\n",
    "for i in range(25):\n",
    "    plt.subplot(5,5,i+1)\n",
    "    plt.xticks([])\n",
    "    plt.yticks([])\n",
    "    plt.grid(False)\n",
    "    t=Ww[:,i]\n",
    "    plt.imshow(t.reshape(32,32), cmap=plt.cm.Greys_r)\n",
    "    plt.xlabel(\"eigenface: {}\".format(i+1))\n",
    "plt.show()"
   ]
  },
  {
   "cell_type": "code",
   "execution_count": 29,
   "metadata": {},
   "outputs": [],
   "source": [
    "#import libarry\n",
    "from sklearn.metrics import confusion_matrix\n",
    "from sklearn.metrics import classification_report\n",
    "from sklearn.model_selection import train_test_split\n",
    "from sklearn.metrics import accuracy_score, precision_score, recall_score \n",
    "from sklearn.preprocessing import StandardScaler\n",
    "from sklearn.neighbors import KNeighborsClassifier\n",
    "\n",
    "#Function to get performance Classification\n",
    "def generateClassificationReport(y_test,y_pred):\n",
    "    print(classification_report(y_test,y_pred))\n",
    "    print(confusion_matrix(y_test,y_pred))    \n",
    "    print('accuracy is ', accuracy_score(y_test,y_pred))"
   ]
  },
  {
   "cell_type": "code",
   "execution_count": 30,
   "metadata": {},
   "outputs": [
    {
     "name": "stdout",
     "output_type": "stream",
     "text": [
      "177\n",
      "76\n"
     ]
    }
   ],
   "source": [
    "#3. Split data input menjadi training dan testing dengan ratio 70:30\n",
    "x_train,x_test,y_train,y_test = train_test_split(dP,ID, stratify=ID, test_size=0.3, random_state=0)\n",
    "\n",
    "print(len(x_train))\n",
    "print(len(x_test))"
   ]
  },
  {
   "cell_type": "code",
   "execution_count": 31,
   "metadata": {},
   "outputs": [
    {
     "name": "stdout",
     "output_type": "stream",
     "text": [
      "For Training data: \n",
      "accuracy is  1.0\n",
      "For Testing data: \n",
      "              precision    recall  f1-score   support\n",
      "\n",
      "           0       0.83      0.64      0.72        47\n",
      "           1       0.57      0.79      0.67        29\n",
      "\n",
      "    accuracy                           0.70        76\n",
      "   macro avg       0.70      0.72      0.69        76\n",
      "weighted avg       0.73      0.70      0.70        76\n",
      "\n",
      "[[30 17]\n",
      " [ 6 23]]\n",
      "accuracy is  0.6973684210526315\n"
     ]
    }
   ],
   "source": [
    "#4. Proses pembuatan model yang meliputi initialisasi, training, dan testing\n",
    "#4.1 K-NEAREST NEIGHBOUR untuk Single k, dalam hal ini dipilih 1\n",
    "\n",
    "#Define Model dengan Cosine Distance\n",
    "kNN = KNeighborsClassifier(n_neighbors=1,metric='cosine')\n",
    "\n",
    "#Training kNN\n",
    "kNN.fit(x_train,y_train)\n",
    "\n",
    "print('For Training data: ')\n",
    "y_pred = kNN.predict(x_train)\n",
    "print('accuracy is ', accuracy_score(y_train,y_pred))\n",
    "\n",
    "print('For Testing data: ')\n",
    "y_pred = kNN.predict(x_test)\n",
    "generateClassificationReport(y_test,y_pred)"
   ]
  },
  {
   "cell_type": "code",
   "execution_count": null,
   "metadata": {},
   "outputs": [],
   "source": []
  }
 ],
 "metadata": {
  "kernelspec": {
   "display_name": "Python 3",
   "language": "python",
   "name": "python3"
  },
  "language_info": {
   "codemirror_mode": {
    "name": "ipython",
    "version": 3
   },
   "file_extension": ".py",
   "mimetype": "text/x-python",
   "name": "python",
   "nbconvert_exporter": "python",
   "pygments_lexer": "ipython3",
   "version": "3.7.3"
  }
 },
 "nbformat": 4,
 "nbformat_minor": 4
}
