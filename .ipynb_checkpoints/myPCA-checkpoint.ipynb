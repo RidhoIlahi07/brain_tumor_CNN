{
 "cells": [
  {
   "cell_type": "code",
   "execution_count": 72,
   "metadata": {},
   "outputs": [
    {
     "data": {
      "text/html": [
       "<div>\n",
       "<style scoped>\n",
       "    .dataframe tbody tr th:only-of-type {\n",
       "        vertical-align: middle;\n",
       "    }\n",
       "\n",
       "    .dataframe tbody tr th {\n",
       "        vertical-align: top;\n",
       "    }\n",
       "\n",
       "    .dataframe thead th {\n",
       "        text-align: right;\n",
       "    }\n",
       "</style>\n",
       "<table border=\"1\" class=\"dataframe\">\n",
       "  <thead>\n",
       "    <tr style=\"text-align: right;\">\n",
       "      <th></th>\n",
       "      <th>Pregnancies</th>\n",
       "      <th>Glucose</th>\n",
       "      <th>BloodPressure</th>\n",
       "      <th>SkinThickness</th>\n",
       "      <th>Insulin</th>\n",
       "      <th>BMI</th>\n",
       "      <th>DiabetesPedigreeFunction</th>\n",
       "      <th>Age</th>\n",
       "      <th>Outcome</th>\n",
       "    </tr>\n",
       "  </thead>\n",
       "  <tbody>\n",
       "    <tr>\n",
       "      <th>0</th>\n",
       "      <td>6</td>\n",
       "      <td>148</td>\n",
       "      <td>72</td>\n",
       "      <td>35</td>\n",
       "      <td>0</td>\n",
       "      <td>33.6</td>\n",
       "      <td>0.627</td>\n",
       "      <td>50</td>\n",
       "      <td>1</td>\n",
       "    </tr>\n",
       "    <tr>\n",
       "      <th>1</th>\n",
       "      <td>1</td>\n",
       "      <td>85</td>\n",
       "      <td>66</td>\n",
       "      <td>29</td>\n",
       "      <td>0</td>\n",
       "      <td>26.6</td>\n",
       "      <td>0.351</td>\n",
       "      <td>31</td>\n",
       "      <td>0</td>\n",
       "    </tr>\n",
       "    <tr>\n",
       "      <th>2</th>\n",
       "      <td>8</td>\n",
       "      <td>183</td>\n",
       "      <td>64</td>\n",
       "      <td>0</td>\n",
       "      <td>0</td>\n",
       "      <td>23.3</td>\n",
       "      <td>0.672</td>\n",
       "      <td>32</td>\n",
       "      <td>1</td>\n",
       "    </tr>\n",
       "    <tr>\n",
       "      <th>3</th>\n",
       "      <td>1</td>\n",
       "      <td>89</td>\n",
       "      <td>66</td>\n",
       "      <td>23</td>\n",
       "      <td>94</td>\n",
       "      <td>28.1</td>\n",
       "      <td>0.167</td>\n",
       "      <td>21</td>\n",
       "      <td>0</td>\n",
       "    </tr>\n",
       "    <tr>\n",
       "      <th>4</th>\n",
       "      <td>0</td>\n",
       "      <td>137</td>\n",
       "      <td>40</td>\n",
       "      <td>35</td>\n",
       "      <td>168</td>\n",
       "      <td>43.1</td>\n",
       "      <td>2.288</td>\n",
       "      <td>33</td>\n",
       "      <td>1</td>\n",
       "    </tr>\n",
       "  </tbody>\n",
       "</table>\n",
       "</div>"
      ],
      "text/plain": [
       "   Pregnancies  Glucose  BloodPressure  SkinThickness  Insulin   BMI  \\\n",
       "0            6      148             72             35        0  33.6   \n",
       "1            1       85             66             29        0  26.6   \n",
       "2            8      183             64              0        0  23.3   \n",
       "3            1       89             66             23       94  28.1   \n",
       "4            0      137             40             35      168  43.1   \n",
       "\n",
       "   DiabetesPedigreeFunction  Age  Outcome  \n",
       "0                     0.627   50        1  \n",
       "1                     0.351   31        0  \n",
       "2                     0.672   32        1  \n",
       "3                     0.167   21        0  \n",
       "4                     2.288   33        1  "
      ]
     },
     "execution_count": 72,
     "metadata": {},
     "output_type": "execute_result"
    }
   ],
   "source": [
    "import pandas as pd\n",
    "import numpy as np\n",
    "import matplotlib.pyplot as plt\n",
    "import matplotlib\n",
    "import seaborn as sns\n",
    "sns.set(color_codes=True)\n",
    "\n",
    "df = pd.read_csv('diabetes.csv')\n",
    "df.head()"
   ]
  },
  {
   "cell_type": "code",
   "execution_count": 73,
   "metadata": {},
   "outputs": [
    {
     "name": "stdout",
     "output_type": "stream",
     "text": [
      "[[1.000e+00 8.500e+01 6.600e+01 2.900e+01 0.000e+00 2.660e+01 3.510e-01\n",
      "  3.100e+01]\n",
      " [8.000e+00 1.830e+02 6.400e+01 0.000e+00 0.000e+00 2.330e+01 6.720e-01\n",
      "  3.200e+01]\n",
      " [1.000e+00 8.900e+01 6.600e+01 2.300e+01 9.400e+01 2.810e+01 1.670e-01\n",
      "  2.100e+01]\n",
      " [0.000e+00 1.370e+02 4.000e+01 3.500e+01 1.680e+02 4.310e+01 2.288e+00\n",
      "  3.300e+01]\n",
      " [5.000e+00 1.160e+02 7.400e+01 0.000e+00 0.000e+00 2.560e+01 2.010e-01\n",
      "  3.000e+01]\n",
      " [3.000e+00 7.800e+01 5.000e+01 3.200e+01 8.800e+01 3.100e+01 2.480e-01\n",
      "  2.600e+01]\n",
      " [1.000e+01 1.150e+02 0.000e+00 0.000e+00 0.000e+00 3.530e+01 1.340e-01\n",
      "  2.900e+01]\n",
      " [2.000e+00 1.970e+02 7.000e+01 4.500e+01 5.430e+02 3.050e+01 1.580e-01\n",
      "  5.300e+01]]\n",
      "[0 1 0 1 0 1 0 1]\n"
     ]
    }
   ],
   "source": [
    "from sklearn.metrics import confusion_matrix\n",
    "from sklearn.metrics import classification_report\n",
    "from sklearn.model_selection import train_test_split\n",
    "from sklearn.metrics import accuracy_score\n",
    "\n",
    "# SEPARATING THE DEPENDENT AND INDEPENDENT VARIABLES ( X, Y )\n",
    "x = df.iloc[:,0:8].values\n",
    "y = df.iloc[:,8].values\n",
    "\n",
    "print(x[1:9,:])\n",
    "print(y[1:9])\n",
    "\n",
    "\n",
    "X_train,X_test,y_train,y_test = train_test_split(x,y,test_size=0.3, random_state=0)"
   ]
  },
  {
   "cell_type": "code",
   "execution_count": 74,
   "metadata": {},
   "outputs": [],
   "source": [
    "def myPCA(dt,nEigen):\n",
    "    \n",
    "    mean=np.mean(dt,axis=0)\n",
    "\n",
    "    nR=dt.shape[0] \n",
    "    diff=np.array(dt) \n",
    "    for i in range (nR):\n",
    "        diff[i,:]=diff[i,:]-mean\n",
    "          \n",
    "    A=np.transpose(dt)@dt \n",
    "\n",
    "    w, v = LA.eig(A)\n",
    "\n",
    "    #5. get W\n",
    "    idx=np.argsort(-w)\n",
    "    Ww=v[:,idx[0:nEigen]]\n",
    "    \n",
    "    return mean, diff, Ww;"
   ]
  },
  {
   "cell_type": "code",
   "execution_count": 75,
   "metadata": {},
   "outputs": [
    {
     "name": "stdout",
     "output_type": "stream",
     "text": [
      "mean : [  3.8547486  121.54376164  69.66666667  21.03165736  84.90130354\n",
      "  32.25512104   0.4713203   33.67039106] \n",
      "\n",
      "diff : [[-3.85474860e+00  2.94562384e+01  2.03333333e+01  2.49683426e+01\n",
      "  -8.49013035e+01  9.84487896e+00 -1.00320298e-01 -1.26703911e+01]\n",
      " [-2.85474860e+00 -3.85437616e+01 -1.66666667e+00 -2.10316574e+01\n",
      "  -8.49013035e+01 -1.40551210e+01  1.52679702e-01 -6.67039106e+00]\n",
      " [-1.85474860e+00  4.56238361e-01  3.33333333e-01  5.96834264e+00\n",
      "  -8.49013035e+01  4.54487896e+00 -1.31320298e-01 -6.67039106e+00]\n",
      " [ 1.45251397e-01  2.44562384e+01  8.33333333e+00 -2.10316574e+01\n",
      "  -8.49013035e+01  6.24487896e+00  4.86797020e-02  3.33296089e+01]\n",
      " [-3.85474860e+00  1.45623836e+00  2.33333333e+00 -2.10316574e+01\n",
      "  -8.49013035e+01  4.04487896e+00 -2.13320298e-01  1.83296089e+01]] \n",
      "\n",
      "W : [[ 0.01754918  0.02319441]\n",
      " [ 0.60373913  0.544294  ]\n",
      " [ 0.33012668  0.34233101]\n",
      " [ 0.11436033  0.03522928]\n",
      " [ 0.68183011 -0.7286164 ]\n",
      " [ 0.15408195  0.14558279]\n",
      " [ 0.00234959  0.00170288]\n",
      " [ 0.15649318  0.1808185 ]] \n",
      "\n",
      "dP : [[-31.07021278  84.78630763]\n",
      " [-87.37329153  36.25159417]\n",
      " [-57.19667712  61.84546342]\n",
      " [-36.59646593  84.22290313]\n",
      " [-55.22041617  66.52437161]] \n",
      "\n"
     ]
    }
   ],
   "source": [
    "mean, diff, W=myPCA(X_train,2)\n",
    "\n",
    "print(\"mean :\",mean,\"\\n\")\n",
    "print(\"diff :\",diff[0:5][:],\"\\n\")\n",
    "print(\"W :\",W,\"\\n\")\n",
    "\n",
    "dP_train=diff@W\n",
    "print(\"dP :\",dP_train[0:5][:],\"\\n\")"
   ]
  },
  {
   "cell_type": "code",
   "execution_count": 76,
   "metadata": {},
   "outputs": [
    {
     "data": {
      "image/png": "[encoded data removed]",
      "text/plain": [
       "<Figure size 432x288 with 1 Axes>"
      ]
     },
     "metadata": {},
     "output_type": "display_data"
    }
   ],
   "source": [
    "# Initialize the plot\n",
    "fig = plt.figure()\n",
    "ax1 = fig.add_subplot(111)\n",
    "\n",
    "idx = np.where(y_train == 1)\n",
    "t0=dP_train[idx[0],:]\n",
    "ax1.scatter(t0[:,0],t0[:,1], color='red', marker='^')\n",
    "\n",
    "idx = np.where(y_train == 0)\n",
    "t0=dP_train[idx[0],:]\n",
    "ax1.scatter(t0[:,0],t0[:,1], color='green', marker='o')\n",
    "\n",
    "plt.show()\n"
   ]
  },
  {
   "cell_type": "code",
   "execution_count": 83,
   "metadata": {},
   "outputs": [
    {
     "name": "stdout",
     "output_type": "stream",
     "text": [
      "dP_test : [[ -6.75587766 106.33631904]\n",
      " [  2.47495021 -18.89460484]\n",
      " [-91.40661696  32.39530765]\n",
      " [ 90.54764724 -38.50240577]\n",
      " [-69.86434343  52.09670397]] \n",
      "\n",
      "              precision    recall  f1-score   support\n",
      "\n",
      "           0       0.78      0.78      0.78       157\n",
      "           1       0.53      0.53      0.53        74\n",
      "\n",
      "    accuracy                           0.70       231\n",
      "   macro avg       0.66      0.66      0.66       231\n",
      "weighted avg       0.70      0.70      0.70       231\n",
      "\n",
      "[[123  34]\n",
      " [ 35  39]]\n",
      "accuracy is  0.7012987012987013\n"
     ]
    }
   ],
   "source": [
    "def generateClassificationReport(y_test,y_pred):\n",
    "    print(classification_report(y_test,y_pred))\n",
    "    print(confusion_matrix(y_test,y_pred))    \n",
    "    print('accuracy is ',accuracy_score(y_test,y_pred))\n",
    "    \n",
    "nR=X_test.shape[0]\n",
    "df_X_test=np.array(X_test)\n",
    "for i in range (nR):\n",
    "    df_X_test[i,:]=df_X_test[i,:]-mean\n",
    "\n",
    "dP_test=df_X_test@W\n",
    "print(\"dP_test :\",dP_test[0:5][:],\"\\n\")\n",
    "\n",
    "from sklearn.neighbors import KNeighborsClassifier\n",
    "classifier = KNeighborsClassifier(n_neighbors=1)\n",
    "classifier.fit(dP_train,y_train)\n",
    "y_pred = classifier.predict(dP_test)\n",
    "\n",
    "generateClassificationReport(y_test,y_pred)"
   ]
  },
  {
   "cell_type": "code",
   "execution_count": null,
   "metadata": {},
   "outputs": [],
   "source": []
  }
 ],
 "metadata": {
  "kernelspec": {
   "display_name": "Python 3",
   "language": "python",
   "name": "python3"
  },
  "language_info": {
   "codemirror_mode": {
    "name": "ipython",
    "version": 3
   },
   "file_extension": ".py",
   "mimetype": "text/x-python",
   "name": "python",
   "nbconvert_exporter": "python",
   "pygments_lexer": "ipython3",
   "version": "3.7.6"
  }
 },
 "nbformat": 4,
 "nbformat_minor": 2
}
